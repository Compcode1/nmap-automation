{
 "cells": [
  {
   "cell_type": "markdown",
   "metadata": {},
   "source": [
    "**Nmap Automation Project - Jupyter Notebook Overview**\n",
    "\n",
    "**1️ Introduction**\n",
    "Project Goal: Automate Nmap scans and compare results over time.\n",
    "Key Features:\n",
    "Runs scans every 15 minutes for an hour.\n",
    "Logs scan results into .txt files.\n",
    "Compares scans and detects network changes.\n",
    "Saves findings in nmap_scan_changes.log.\n",
    "\n",
    "**2 Project Files & Structure**\n",
    "scheduled_nmap.py → Automates Nmap scans every 15 minutes and saves results.\n",
    "compare_nmap_scans.py → Compares scan results, detects changes, and logs them.\n",
    "nmap_scan_YYYY-MM-DD_HH-MM-SS.txt → Individual scan results saved per timestamp. (Example: nmap_scan_2025-03-08_14-42-32.txt)\n",
    "nmap_scan_changes.log → Stores detected network changes over time.\n",
    "NMAP-Automation.ipynb → Jupyter Notebook explaining the project, displaying outputs, and summarizing findings.\n",
    "\n",
    "**3️ Running the Scripts**\n",
    "\n",
    "To start automated scans:\n",
    "python3 scheduled_nmap.py\n",
    "\n",
    "To compare scan results:\n",
    "compare_nmap_scans.py\n",
    "\n",
    "**4️ Observations & Key Findings**\n",
    "New hosts detected: ✅ 192.168.1.78 and 192.168.1.111 appeared in later scans.\n",
    "Fluctuations in open ports: Some ports opened/closed across scans.\n",
    "Automating these scans helped track changes in real time.\n",
    "\n",
    "**5 Conclusion**\n",
    "This project successfully automated Nmap scanning and tracked network changes over time.\n",
    "Results were logged and compared automatically, making it easy to detect anomalies.\n"
   ]
  }
 ],
 "metadata": {
  "kernelspec": {
   "display_name": "Python 3",
   "language": "python",
   "name": "python3"
  },
  "language_info": {
   "codemirror_mode": {
    "name": "ipython",
    "version": 3
   },
   "file_extension": ".py",
   "mimetype": "text/x-python",
   "name": "python",
   "nbconvert_exporter": "python",
   "pygments_lexer": "ipython3",
   "version": "3.12.3"
  }
 },
 "nbformat": 4,
 "nbformat_minor": 2
}
